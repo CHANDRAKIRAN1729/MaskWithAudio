{
 "cells": [
  {
   "cell_type": "code",
   "execution_count": 1,
   "metadata": {},
   "outputs": [
    {
     "name": "stderr",
     "output_type": "stream",
     "text": [
      "Using TensorFlow backend.\n"
     ]
    }
   ],
   "source": [
    "from keras.preprocessing.image import ImageDataGenerator,load_img,img_to_array"
   ]
  },
  {
   "cell_type": "code",
   "execution_count": 2,
   "metadata": {},
   "outputs": [],
   "source": [
    "gen=ImageDataGenerator(rotation_range=30,width_shift_range=0.1,height_shift_range=0.1,shear_range=0.2,zoom_range=0.2,horizontal_flip=True,fill_mode='nearest',rescale=1/255)"
   ]
  },
  {
   "cell_type": "code",
   "execution_count": 3,
   "metadata": {},
   "outputs": [],
   "source": [
    "import os\n",
    "data=[]\n",
    "labels=[]"
   ]
  },
  {
   "cell_type": "code",
   "execution_count": 4,
   "metadata": {},
   "outputs": [],
   "source": [
    "from keras.preprocessing.image import load_img,img_to_array"
   ]
  },
  {
   "cell_type": "code",
   "execution_count": 5,
   "metadata": {},
   "outputs": [
    {
     "name": "stderr",
     "output_type": "stream",
     "text": [
      "C:\\Users\\user\\anaconda3\\envs\\python-cvcourse\\lib\\site-packages\\PIL\\Image.py:931: UserWarning: Palette images with Transparency   expressed in bytes should be converted to RGBA images\n",
      "  'to RGBA images')\n"
     ]
    }
   ],
   "source": [
    "for file in os.listdir('C:/Users/user/Desktop/OpenCV/CV2/DATA/face_data/train/mask'):\n",
    "    path=os.path.join('C:/Users/user/Desktop/OpenCV/CV2/DATA/face_data/train/mask/',file)\n",
    "    image=load_img(path,target_size=(256,256))\n",
    "    image=img_to_array(image)\n",
    "    data.append(image)\n",
    "    labels.append(0)"
   ]
  },
  {
   "cell_type": "code",
   "execution_count": 6,
   "metadata": {},
   "outputs": [],
   "source": [
    "for file in os.listdir('C:/Users/user/Desktop/OpenCV/CV2/DATA/face_data/train/unmask'):\n",
    "    path=os.path.join('C:/Users/user/Desktop/OpenCV/CV2/DATA/face_data/train/unmask/',file)\n",
    "    image=load_img(path,target_size=(256,256))\n",
    "    image=img_to_array(image)\n",
    "    data.append(image)\n",
    "    labels.append(1)"
   ]
  },
  {
   "cell_type": "code",
   "execution_count": 7,
   "metadata": {},
   "outputs": [],
   "source": [
    "from sklearn.model_selection import train_test_split"
   ]
  },
  {
   "cell_type": "code",
   "execution_count": 8,
   "metadata": {},
   "outputs": [],
   "source": [
    "X_train, X_test, y_train, y_test = train_test_split(data, labels, test_size=0.3, random_state=42)"
   ]
  },
  {
   "cell_type": "code",
   "execution_count": 9,
   "metadata": {},
   "outputs": [],
   "source": [
    "X_val,X_Test,y_val,y_Test=train_test_split(X_test,y_test,test_size=0.33,random_state=42)"
   ]
  },
  {
   "cell_type": "code",
   "execution_count": 10,
   "metadata": {},
   "outputs": [],
   "source": [
    "import numpy as np\n",
    "X_train=np.array(X_train)\n",
    "X_val=np.array(X_val)\n",
    "X_Test=np.array(X_Test)"
   ]
  },
  {
   "cell_type": "code",
   "execution_count": 11,
   "metadata": {},
   "outputs": [],
   "source": [
    "from keras.utils.np_utils import to_categorical"
   ]
  },
  {
   "cell_type": "code",
   "execution_count": 12,
   "metadata": {},
   "outputs": [],
   "source": [
    "y_cat_train=to_categorical(np.array(y_train),2)\n",
    "y_cat_val=to_categorical(np.array(y_val),2)\n",
    "y_cat_Test=to_categorical(np.array(y_Test),2)"
   ]
  },
  {
   "cell_type": "code",
   "execution_count": 13,
   "metadata": {},
   "outputs": [],
   "source": [
    "from keras.models import Sequential\n",
    "from keras.layers import Conv2D,MaxPool2D,Dense,Flatten,Dropout\n",
    "model=Sequential()\n",
    "model.add(Conv2D(filters=32,kernel_size=(4,4),input_shape=(256,256,3),activation='relu'))\n",
    "model.add(MaxPool2D(pool_size=(2,2)))\n",
    "model.add(Conv2D(filters=64,kernel_size=(4,4),input_shape=(256,256,3),activation='relu'))\n",
    "model.add(MaxPool2D(pool_size=(2,2)))\n",
    "model.add(Flatten())\n",
    "model.add(Dense(128,activation='relu'))\n",
    "model.add(Dropout(0.5))\n",
    "model.add(Dense(2,activation='softmax'))"
   ]
  },
  {
   "cell_type": "code",
   "execution_count": 14,
   "metadata": {},
   "outputs": [],
   "source": [
    "model.compile(loss='binary_crossentropy', optimizer='adam',metrics=['accuracy'])"
   ]
  },
  {
   "cell_type": "code",
   "execution_count": 17,
   "metadata": {},
   "outputs": [
    {
     "data": {
      "text/plain": [
       "770"
      ]
     },
     "execution_count": 17,
     "metadata": {},
     "output_type": "execute_result"
    }
   ],
   "source": [
    "len(y_val)"
   ]
  },
  {
   "cell_type": "code",
   "execution_count": 18,
   "metadata": {},
   "outputs": [
    {
     "name": "stdout",
     "output_type": "stream",
     "text": [
      "Epoch 1/10\n",
      "50/50 [==============================] - 680s 14s/step - loss: 0.6705 - acc: 0.8044 - val_loss: 0.2548 - val_acc: 0.9000\n",
      "Epoch 2/10\n",
      "50/50 [==============================] - 392s 8s/step - loss: 0.2814 - acc: 0.8939 - val_loss: 0.2292 - val_acc: 0.9065\n",
      "Epoch 3/10\n",
      "50/50 [==============================] - 400s 8s/step - loss: 0.2888 - acc: 0.8914 - val_loss: 0.2548 - val_acc: 0.9013\n",
      "Epoch 4/10\n",
      "50/50 [==============================] - 401s 8s/step - loss: 0.2410 - acc: 0.9106 - val_loss: 0.2095 - val_acc: 0.9247\n",
      "Epoch 5/10\n",
      "50/50 [==============================] - 398s 8s/step - loss: 0.2460 - acc: 0.9131 - val_loss: 0.2857 - val_acc: 0.8870\n",
      "Epoch 6/10\n",
      "50/50 [==============================] - 408s 8s/step - loss: 0.2563 - acc: 0.9032 - val_loss: 0.2126 - val_acc: 0.9117\n",
      "Epoch 7/10\n",
      "50/50 [==============================] - 407s 8s/step - loss: 0.1989 - acc: 0.9248 - val_loss: 0.2074 - val_acc: 0.9182\n",
      "Epoch 8/10\n",
      "50/50 [==============================] - 407s 8s/step - loss: 0.2399 - acc: 0.9169 - val_loss: 0.2304 - val_acc: 0.9182\n",
      "Epoch 9/10\n",
      "50/50 [==============================] - 405s 8s/step - loss: 0.2100 - acc: 0.9275 - val_loss: 0.2368 - val_acc: 0.9182\n",
      "Epoch 10/10\n",
      "50/50 [==============================] - 403s 8s/step - loss: 0.2026 - acc: 0.9236 - val_loss: 0.1912 - val_acc: 0.9312\n"
     ]
    },
    {
     "data": {
      "text/plain": [
       "<keras.callbacks.History at 0x639b69e8>"
      ]
     },
     "execution_count": 18,
     "metadata": {},
     "output_type": "execute_result"
    }
   ],
   "source": [
    "model.fit_generator(gen.flow(X_train, y_cat_train, batch_size=32),steps_per_epoch=50,validation_data=gen.flow(X_val, y_cat_val,batch_size=32),validation_steps=15, epochs=10)"
   ]
  },
  {
   "cell_type": "code",
   "execution_count": 19,
   "metadata": {},
   "outputs": [],
   "source": [
    "predictions=model.predict_classes(X_Test)"
   ]
  },
  {
   "cell_type": "code",
   "execution_count": 24,
   "metadata": {},
   "outputs": [],
   "source": [
    "from sklearn.metrics import classification_report"
   ]
  },
  {
   "cell_type": "code",
   "execution_count": 25,
   "metadata": {},
   "outputs": [
    {
     "name": "stdout",
     "output_type": "stream",
     "text": [
      "             precision    recall  f1-score   support\n",
      "\n",
      "          0       0.94      0.93      0.94       194\n",
      "          1       0.93      0.94      0.94       186\n",
      "\n",
      "avg / total       0.94      0.94      0.94       380\n",
      "\n"
     ]
    }
   ],
   "source": [
    "print(classification_report(y_Test,predictions))"
   ]
  },
  {
   "cell_type": "code",
   "execution_count": 26,
   "metadata": {},
   "outputs": [],
   "source": [
    "model.save('C:/Users/user/Desktop/OpenCV/CV2/msd.h5')"
   ]
  }
 ],
 "metadata": {
  "kernelspec": {
   "display_name": "Python 3",
   "language": "python",
   "name": "python3"
  },
  "language_info": {
   "codemirror_mode": {
    "name": "ipython",
    "version": 3
   },
   "file_extension": ".py",
   "mimetype": "text/x-python",
   "name": "python",
   "nbconvert_exporter": "python",
   "pygments_lexer": "ipython3",
   "version": "3.6.6"
  }
 },
 "nbformat": 4,
 "nbformat_minor": 2
}
