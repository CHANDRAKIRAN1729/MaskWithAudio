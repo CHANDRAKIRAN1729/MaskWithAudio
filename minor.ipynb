{
 "cells": [
  {
   "cell_type": "code",
   "execution_count": 1,
   "metadata": {},
   "outputs": [],
   "source": [
    "import cv2"
   ]
  },
  {
   "cell_type": "code",
   "execution_count": 2,
   "metadata": {},
   "outputs": [],
   "source": [
    "from find_face import find_face"
   ]
  },
  {
   "cell_type": "code",
   "execution_count": 3,
   "metadata": {},
   "outputs": [],
   "source": [
    "cv2.namedWindow('Face_Detection')"
   ]
  },
  {
   "cell_type": "code",
   "execution_count": 5,
   "metadata": {},
   "outputs": [],
   "source": [
    "from keras.models import load_model\n",
    "model=load_model('C:/Users/user/Desktop/OpenCV/CV2/DATA/minor_files/msd.h5')"
   ]
  },
  {
   "cell_type": "code",
   "execution_count": 6,
   "metadata": {},
   "outputs": [],
   "source": [
    "cap=cv2.VideoCapture(0+cv2.CAP_DSHOW)\n",
    "while True:\n",
    "    res,frame=cap.read()\n",
    "    copy=frame.copy()\n",
    "    copy=cv2.resize(copy,(256,256))\n",
    "    copy=copy.reshape((1,256,256,3))\n",
    "    a=model.predict_classes(copy)\n",
    "    if a[0]==0:\n",
    "        cv2.putText(frame,\"Unmasked\",(10,400),cv2.FONT_HERSHEY_COMPLEX,1,color=(0,0,255),thickness=2)\n",
    "        frame,num=find_face(frame)\n",
    "        cv2.putText(frame,\"Total_faces : \"+str(num),(10,450),cv2.FONT_HERSHEY_COMPLEX,1,color=(0,0,255),thickness=2)\n",
    "    else:\n",
    "        cv2.putText(frame,\"Masked\",(10,400),cv2.FONT_HERSHEY_COMPLEX,1,color=(0,255,),thickness=2)\n",
    "    cv2.imshow('Face_Detection',frame)\n",
    "    k=cv2.waitKey(1)\n",
    "    if k==27:\n",
    "        break\n",
    "cap.release()\n",
    "cv2.destroyAllWindows()"
   ]
  },
  {
   "cell_type": "code",
   "execution_count": null,
   "metadata": {},
   "outputs": [],
   "source": []
  }
 ],
 "metadata": {
  "kernelspec": {
   "display_name": "Python 3",
   "language": "python",
   "name": "python3"
  },
  "language_info": {
   "codemirror_mode": {
    "name": "ipython",
    "version": 3
   },
   "file_extension": ".py",
   "mimetype": "text/x-python",
   "name": "python",
   "nbconvert_exporter": "python",
   "pygments_lexer": "ipython3",
   "version": "3.6.6"
  }
 },
 "nbformat": 4,
 "nbformat_minor": 2
}
